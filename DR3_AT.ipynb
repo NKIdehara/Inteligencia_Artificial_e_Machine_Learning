{
 "cells": [
  {
   "cell_type": "markdown",
   "id": "c7549512",
   "metadata": {},
   "source": [
    "# Inteligência Artificial: Classificação\n",
    "## ASSESSMENT – AT"
   ]
  },
  {
   "cell_type": "markdown",
   "id": "84b424d8",
   "metadata": {},
   "source": [
    "### Questão 1, Carregar os Dados\n",
    "Vamos trabalhar com uma base que contém dados relacionados a diamantes, com 53.940 observações e 10 variáveis. A variável alvo será a 'cut' e utilizaremos as demais como variáveis explicativas. Abaixo temos a descrição de cada uma das variáveis desta base:\n",
    "- price: price in US dollars ($326--$18,823)\n",
    "- carat: weight of the diamond (0.2--5.01)\n",
    "- color: diamond colour, from D (best) to J (worst)\n",
    "- clarity: a measurement of how clear the diamond is (I1 (worst), SI2, SI1, VS2, VS1, VVS2, VVS1, IF (best))\n",
    "- x: length in mm (0--10.74)\n",
    "- y: width in mm (0--58.9)\n",
    "- z: depth in mm (0--31.8)\n",
    "- depth: total depth percentage = z / mean(x, y) = 2 * z / (x + y) (43--79)\n",
    "- table: width of top of diamond relative to widest point (43--95)\n",
    "- cut (Target): quality of the cut (Fair, Good, Very Good, Premium, Ideal)\n",
    "Você deverá utilizar a linguagem Python para a execução de todas as tarefas abaixo. Inicie carregando a base que está no link a seguir diretamente do Github e armazenando os dados em um data frame único (lembre-se de inspecionar o arquivo para utilizar a instrução de importação de forma que funcione corretamente). Ao terminar, apresente a base.\n"
   ]
  },
  {
   "cell_type": "code",
   "execution_count": 1,
   "id": "974e240f",
   "metadata": {},
   "outputs": [
    {
     "name": "stdout",
     "output_type": "stream",
     "text": [
      "Dataframe:\n",
      "   carat      cut color clarity  depth  table  price     x     y     z\n",
      "0   0.23    Ideal     E     SI2   61.5   55.0    326  3.95  3.98  2.43\n",
      "1   0.21  Premium     E     SI1   59.8   61.0    326  3.89  3.84  2.31\n",
      "2   0.29  Premium     I     VS2   62.4   58.0    334  4.20  4.23  2.63\n",
      "3   0.23    Ideal     J     VS1   62.8   56.0    340  3.93  3.90  2.46\n",
      "4   0.22  Premium     F     SI1   60.4   61.0    342  3.88  3.84  2.33\n",
      "\n",
      "Variável alvo:\n",
      "0      Ideal\n",
      "1    Premium\n",
      "2    Premium\n",
      "3      Ideal\n",
      "4    Premium\n",
      "Name: cut, dtype: object\n"
     ]
    }
   ],
   "source": [
    "import pandas as pd\n",
    "\n",
    "# Carregando a base de dados em um DataFrame único\n",
    "diamonds = pd.read_csv(\"https://raw.githubusercontent.com/cassiusf/datasets/main/diamonds.csv\")\n",
    "\n",
    "# Apresentando a base de dados\n",
    "print(\"Dataframe:\")\n",
    "print(diamonds.head())\n",
    "\n",
    "# Selecionando a variável alvo\n",
    "target_column = \"cut\"\n",
    "target = diamonds[target_column]\n",
    "\n",
    "# Apresentando a variável alvo\n",
    "print(\"\\nVariável alvo:\")\n",
    "print(target.head())\n"
   ]
  },
  {
   "cell_type": "markdown",
   "id": "6c1d5305",
   "metadata": {},
   "source": [
    "### Questão 2, Preparar os Dados\n",
    "Após o carregamento, execute as seguintes operações, na ordem apresentada:\n",
    "1.\tTransforme as variáveis 'clarity' e 'color' em variáveis dummy e remova as variáveis originais da base.\n",
    "2.\tApresente em uma visualização única a distribuição de valores da variável-alvo.\n",
    "3.\tRecodifique a variável alvo, utilizando e referência a seguir:\n",
    "- (0) 'Ideal'\n",
    "- (1) 'Premium'\n",
    "- (3) 'Very Good'\n",
    "- (4) 'Good'\n",
    "- (5) 'Fair'\n",
    "4.\tSepare o conjunto das variáveis independentes da variável dependente.\n",
    "5.\tAplique um escalonamento à sua escolha no conjunto de dados, aplicando a técnica apropriada.\n",
    "6.\tSepare os dados resultantes em bases de Treino e Teste, utilizando a proporção 75-25%.\n"
   ]
  },
  {
   "cell_type": "code",
   "execution_count": 2,
   "id": "da7d34f1",
   "metadata": {},
   "outputs": [
    {
     "name": "stdout",
     "output_type": "stream",
     "text": [
      "Variáveis explicativas:\n",
      "   carat      cut  depth  table  price     x     y     z  clarity_IF  \\\n",
      "0   0.23    Ideal   61.5   55.0    326  3.95  3.98  2.43       False   \n",
      "1   0.21  Premium   59.8   61.0    326  3.89  3.84  2.31       False   \n",
      "2   0.29  Premium   62.4   58.0    334  4.20  4.23  2.63       False   \n",
      "3   0.23    Ideal   62.8   56.0    340  3.93  3.90  2.46       False   \n",
      "4   0.22  Premium   60.4   61.0    342  3.88  3.84  2.33       False   \n",
      "\n",
      "   clarity_SI1  ...  clarity_VS1  clarity_VS2  clarity_VVS1  clarity_VVS2  \\\n",
      "0        False  ...        False        False         False         False   \n",
      "1         True  ...        False        False         False         False   \n",
      "2        False  ...        False         True         False         False   \n",
      "3        False  ...         True        False         False         False   \n",
      "4         True  ...        False        False         False         False   \n",
      "\n",
      "   color_E  color_F  color_G  color_H  color_I  color_J  \n",
      "0     True    False    False    False    False    False  \n",
      "1     True    False    False    False    False    False  \n",
      "2    False    False    False    False     True    False  \n",
      "3    False    False    False    False    False     True  \n",
      "4    False     True    False    False    False    False  \n",
      "\n",
      "[5 rows x 21 columns]\n"
     ]
    },
    {
     "data": {
      "image/png": "[encoded data removed]",
      "text/plain": [
       "<Figure size 1000x800 with 1 Axes>"
      ]
     },
     "metadata": {},
     "output_type": "display_data"
    }
   ],
   "source": [
    "# Atividade 1\n",
    "# Convertendo as variáveis categóricas \"clarity\" e \"color\" em variáveis dummy\n",
    "diamonds = pd.get_dummies(diamonds, columns=[\"clarity\", \"color\"], drop_first=True)\n",
    "print(\"Variáveis explicativas:\")\n",
    "print(diamonds.head())\n",
    "\n",
    "\n",
    "# Atividade 2\n",
    "# Visualizando a distribuição dos valores da variável alvo\n",
    "import matplotlib.pyplot as plt\n",
    "distrib = target.value_counts()\n",
    "plt.figure(figsize=(10, 8))\n",
    "distrib.plot(kind='bar', color=\"wheat\", edgecolor=\"black\")\n",
    "plt.title(\"Distribuição de Valores da Variável Alvo (cut)\")\n",
    "plt.xlabel(\"Classe\")\n",
    "plt.ylabel(\"Frequência\")\n",
    "plt.xticks(rotation=0)\n",
    "plt.show()\n",
    "\n",
    "\n",
    "# Atividade 3\n",
    "# Recodificando a variável alvo\n",
    "target = target.map({\n",
    "    \"Ideal\": 0,\n",
    "    \"Premium\": 1,\n",
    "    \"Very Good\": 3,\n",
    "    \"Good\": 4,\n",
    "    \"Fair\": 5\n",
    "})\n",
    "\n",
    "\n",
    "# Atividade 4\n",
    "# Separando as variáveis explicativas da variável alvo\n",
    "features = diamonds[diamonds.columns.difference([target_column])]\n",
    "\n",
    "\n",
    "# Atividade 5\n",
    "# Escalonando as variáveis explicativas\n",
    "from sklearn.preprocessing import StandardScaler\n",
    "scaler = StandardScaler()\n",
    "feature_scaled = scaler.fit_transform(features)\n",
    "\n",
    "\n",
    "# Atividade 6\n",
    "# Separando a base de dados em treino e teste\n",
    "from sklearn.model_selection import train_test_split\n",
    "RANDOM_STATE = 11\n",
    "TEST_SIZE = 0.25\n",
    "feature_train, feature_test, target_train, target_test = train_test_split(feature_scaled, target, test_size=TEST_SIZE, random_state=RANDOM_STATE)\n",
    "\n"
   ]
  },
  {
   "cell_type": "markdown",
   "id": "06e32010",
   "metadata": {},
   "source": [
    "### Questão 3\n",
    "Apresente a matriz de confusão gerada a partir da aplicação do modelo no conjunto de testes.\n"
   ]
  },
  {
   "cell_type": "code",
   "execution_count": 3,
   "id": "be1302c0",
   "metadata": {},
   "outputs": [
    {
     "data": {
      "image/png": "[encoded data removed]",
      "text/plain": [
       "<Figure size 640x480 with 2 Axes>"
      ]
     },
     "metadata": {},
     "output_type": "display_data"
    }
   ],
   "source": [
    "from sklearn.tree import DecisionTreeClassifier\n",
    "from sklearn.metrics import confusion_matrix, ConfusionMatrixDisplay\n",
    "\n",
    "# Aplicando o modelo de Árvore de Decisão\n",
    "tree = DecisionTreeClassifier(random_state=RANDOM_STATE)\n",
    "tree.fit(feature_train, target_train)\n",
    "target_pred = tree.predict(feature_test)\n",
    "\n",
    "# Gerando a matriz de confusão\n",
    "cm = confusion_matrix(target_test, target_pred, labels=[0, 1, 3, 4, 5])\n",
    "disp = ConfusionMatrixDisplay(confusion_matrix=cm, display_labels=[\"Ideal\", \"Premium\", \"Very Good\", \"Good\", \"Fair\"])\n",
    "disp.plot(cmap=\"bone_r\", xticks_rotation=45)\n",
    "plt.title(\"Matriz de Confusão - Árvore de Decisão\")\n",
    "plt.show()"
   ]
  },
  {
   "cell_type": "markdown",
   "id": "dbee4b1d",
   "metadata": {},
   "source": [
    "### Questão 4\n",
    "Apresente o correspondente relatório de classificação com as métricas de execução da árvore de decisão.\n"
   ]
  },
  {
   "cell_type": "code",
   "execution_count": 4,
   "id": "fb1b68b9",
   "metadata": {},
   "outputs": [
    {
     "name": "stdout",
     "output_type": "stream",
     "text": [
      "Relatório de Classificação - Árvore de Decisão:\n",
      "\n",
      "              precision    recall  f1-score   support\n",
      "\n",
      "       Ideal       0.90      0.90      0.90      5399\n",
      "     Premium       0.84      0.85      0.85      3437\n",
      "   Very Good       0.00      0.00      0.00         0\n",
      "        Good       0.00      0.00      0.00         0\n",
      "        Fair       0.00      0.00      0.00         0\n",
      "\n",
      "    accuracy                           0.88      8836\n",
      "   macro avg       0.35      0.35      0.35      8836\n",
      "weighted avg       0.88      0.88      0.88      8836\n",
      "\n",
      "Acurácia do modelo de Árvore de Decisão: 0.87902\n"
     ]
    }
   ],
   "source": [
    "# Gerando o relatório de classificação\n",
    "from sklearn.metrics import classification_report, accuracy_score\n",
    "print(\"Relatório de Classificação - Árvore de Decisão:\\n\")\n",
    "print(classification_report(target_test, target_pred, labels=[0, 1, 3, 4, 5], target_names=[\"Ideal\", \"Premium\", \"Very Good\", \"Good\", \"Fair\"], zero_division=0))\n",
    "print(f\"Acurácia do modelo de Árvore de Decisão: {accuracy_score(target_test, target_pred):.5f}\")"
   ]
  },
  {
   "cell_type": "markdown",
   "id": "0e0a7ec3",
   "metadata": {},
   "source": [
    "### Questão 5\n",
    "Utilize os mesmos conjuntos de Treino e Teste para executar um modelo Random Forest, utilizando as opções padrão do classificador e o correspondente relatório de classificação com as métricas de execução.\n"
   ]
  },
  {
   "cell_type": "code",
   "execution_count": 5,
   "id": "d27cc561",
   "metadata": {},
   "outputs": [
    {
     "name": "stdout",
     "output_type": "stream",
     "text": [
      "Relatório de Classificação - Random Forest:\n",
      "\n",
      "              precision    recall  f1-score   support\n",
      "\n",
      "       Ideal       0.93      0.95      0.94      5399\n",
      "     Premium       0.92      0.88      0.90      3437\n",
      "   Very Good       0.00      0.00      0.00         0\n",
      "        Good       0.00      0.00      0.00         0\n",
      "        Fair       0.00      0.00      0.00         0\n",
      "\n",
      "    accuracy                           0.92      8836\n",
      "   macro avg       0.37      0.37      0.37      8836\n",
      "weighted avg       0.92      0.92      0.92      8836\n",
      "\n",
      "Acurácia do modelo de Random Forest: 0.92270\n"
     ]
    }
   ],
   "source": [
    "# Aplicando o modelo de Random Forest\n",
    "from sklearn.ensemble import RandomForestClassifier\n",
    "rf = RandomForestClassifier(random_state=RANDOM_STATE, n_jobs=-1)\n",
    "rf.fit(feature_train, target_train)\n",
    "target_pred = rf.predict(feature_test)\n",
    "\n",
    "# Apresentando o relatório de classificação\n",
    "print(\"Relatório de Classificação - Random Forest:\\n\")\n",
    "print(classification_report(target_test, target_pred, labels=[0, 1, 3, 4, 5], target_names=[\"Ideal\", \"Premium\", \"Very Good\", \"Good\", \"Fair\"], zero_division=0))\n",
    "print(f\"Acurácia do modelo de Random Forest: {accuracy_score(target_test, target_pred):.5f}\")"
   ]
  },
  {
   "cell_type": "markdown",
   "id": "955aa771",
   "metadata": {},
   "source": [
    "### Questão 6\n",
    "Execute um GridSearch buscando a melhor configuração para três parâmetros da Random Forest, à sua escolha. Utilize a acurácia como métrica-alvo, justifique a escolha dos parâmetros, apresente a melhor combinação de parâmetros encontrada pelo procedimento e execute o modelo para esta melhor combinação.\n"
   ]
  },
  {
   "cell_type": "code",
   "execution_count": 6,
   "id": "62b7b47d",
   "metadata": {},
   "outputs": [
    {
     "name": "stdout",
     "output_type": "stream",
     "text": [
      "Fitting 5 folds for each of 36 candidates, totalling 180 fits\n",
      "Melhores parâmetros encontrados:\n",
      "{'max_depth': 20, 'max_features': 'sqrt', 'n_estimators': 400}\n"
     ]
    }
   ],
   "source": [
    "from sklearn.model_selection import GridSearchCV\n",
    "\n",
    "# Hiperparâmetros do Random Forest\n",
    "# Os seguintes hiperparâmetros foram escolhidos para o GridSearchCV:\n",
    "#   - n_estimators: número de árvores na floresta, onde mais árvores geralmente melhora o resultado da classificação\n",
    "#   - max_depth: profundidade máxima das árvores, permitindo controlar o overfitting\n",
    "#   - max_features: número máximo de características consideradas para dividir um nó, ajudando na diversidade das árvores\n",
    "param_grid = {\n",
    "    \"n_estimators\": [200, 400, 800],\n",
    "    \"max_depth\": [None, 10, 20, 30],\n",
    "    \"max_features\": [\"sqrt\", \"log2\", None]\n",
    "}\n",
    "grid_search = GridSearchCV(estimator=rf, param_grid=param_grid, scoring=\"accuracy\", cv=5, n_jobs=-1, verbose=1)\n",
    "grid_search.fit(feature_train, target_train)\n",
    "\n",
    "# Apresentando os parâmetros do melhor modelo encontrado\n",
    "best_rf = grid_search.best_estimator_\n",
    "print(\"Melhores parâmetros encontrados:\")\n",
    "print(grid_search.best_params_)\n",
    "\n",
    "# Executando o modelo com os melhores parâmetros\n",
    "best_rf.fit(feature_train, target_train)\n",
    "target_pred = best_rf.predict(feature_test)\n"
   ]
  },
  {
   "cell_type": "markdown",
   "id": "3ef1a12b",
   "metadata": {},
   "source": [
    "### Questão 7\n",
    "Apresente o relatório de classificação a partir da execução do modelo com a melhor configuração no conjunto de testes.\n"
   ]
  },
  {
   "cell_type": "code",
   "execution_count": 7,
   "id": "3f7cda0a",
   "metadata": {},
   "outputs": [
    {
     "name": "stdout",
     "output_type": "stream",
     "text": [
      "Relatório de Classificação - Random Forest (com os melhores parâmetros):\n",
      "\n",
      "              precision    recall  f1-score   support\n",
      "\n",
      "       Ideal       0.93      0.95      0.94      5399\n",
      "     Premium       0.92      0.88      0.90      3437\n",
      "   Very Good       0.00      0.00      0.00         0\n",
      "        Good       0.00      0.00      0.00         0\n",
      "        Fair       0.00      0.00      0.00         0\n",
      "\n",
      "    accuracy                           0.92      8836\n",
      "   macro avg       0.37      0.37      0.37      8836\n",
      "weighted avg       0.92      0.92      0.92      8836\n",
      "\n",
      "Acurácia do modelo de Random Forest (com os melhores parâmetros): 0.92270\n"
     ]
    }
   ],
   "source": [
    "# Apresentando o relatório de classificação com o modelo otimizado\n",
    "print(\"Relatório de Classificação - Random Forest (com os melhores parâmetros):\\n\")\n",
    "print(classification_report(target_test, target_pred, labels=[0, 1, 3, 4, 5], target_names=[\"Ideal\", \"Premium\", \"Very Good\", \"Good\", \"Fair\"], zero_division=0))\n",
    "print(f\"Acurácia do modelo de Random Forest (com os melhores parâmetros): {accuracy_score(target_test, target_pred):.5f}\")\n"
   ]
  },
  {
   "cell_type": "markdown",
   "id": "f4a1338f",
   "metadata": {},
   "source": [
    "### Questão 8\n",
    "Utilize os mesmos conjuntos de Treino e Teste da questão 2 para executar um modelo XGBoost, utilizando as opções padrão do classificador e o correspondente relatório de classificação com as métricas de execução.\n"
   ]
  },
  {
   "cell_type": "code",
   "execution_count": 8,
   "id": "1f2e3d15",
   "metadata": {},
   "outputs": [
    {
     "name": "stdout",
     "output_type": "stream",
     "text": [
      "Relatório de Classificação - XGBoost:\n",
      "\n",
      "              precision    recall  f1-score   support\n",
      "\n",
      "       Ideal       0.93      0.95      0.94      5399\n",
      "     Premium       0.92      0.88      0.90      3437\n",
      "   Very Good       0.00      0.00      0.00         0\n",
      "        Good       0.00      0.00      0.00         0\n",
      "        Fair       0.00      0.00      0.00         0\n",
      "\n",
      "    accuracy                           0.92      8836\n",
      "   macro avg       0.37      0.37      0.37      8836\n",
      "weighted avg       0.92      0.92      0.92      8836\n",
      "\n",
      "Acurácia do modelo de XGBoost: 0.92372\n"
     ]
    }
   ],
   "source": [
    "# Aplicando o modelo de XGBoost\n",
    "import xgboost as xgb\n",
    "xgb_model = xgb.XGBClassifier(random_state=RANDOM_STATE)\n",
    "xgb_model.fit(feature_train, target_train)\n",
    "xgb_pred = xgb_model.predict(feature_test)\n",
    "\n",
    "# Apresentando o relatório de classificação\n",
    "print(\"Relatório de Classificação - XGBoost:\\n\")\n",
    "print(classification_report(target_test, xgb_pred, labels=[0, 1, 3, 4, 5], target_names=[\"Ideal\", \"Premium\", \"Very Good\", \"Good\", \"Fair\"], zero_division=0))\n",
    "print(f\"Acurácia do modelo de XGBoost: {accuracy_score(target_test, xgb_pred):.5f}\")"
   ]
  },
  {
   "cell_type": "markdown",
   "id": "34e79af2",
   "metadata": {},
   "source": [
    "### Questão 9\n",
    "Utilize os mesmos conjuntos de Treino e Teste da questão 2 para executar um modelo SVM, utilizando as opções padrão do classificador e o correspondente relatório de classificação com as métricas de execução.\n"
   ]
  },
  {
   "cell_type": "code",
   "execution_count": 9,
   "id": "46f6be47",
   "metadata": {},
   "outputs": [
    {
     "name": "stdout",
     "output_type": "stream",
     "text": [
      "Relatório de Classificação - SVM:\n",
      "\n",
      "              precision    recall  f1-score   support\n",
      "\n",
      "       Ideal       0.92      0.95      0.93      5399\n",
      "     Premium       0.91      0.87      0.89      3437\n",
      "   Very Good       0.00      0.00      0.00         0\n",
      "        Good       0.00      0.00      0.00         0\n",
      "        Fair       0.00      0.00      0.00         0\n",
      "\n",
      "    accuracy                           0.92      8836\n",
      "   macro avg       0.37      0.36      0.36      8836\n",
      "weighted avg       0.92      0.92      0.92      8836\n",
      "\n",
      "Acurácia do modelo de SVM: 0.91625\n"
     ]
    }
   ],
   "source": [
    "# Aplicando o modelo de SVM\n",
    "from sklearn.svm import SVC\n",
    "svm = SVC(random_state=RANDOM_STATE)\n",
    "svm.fit(feature_train, target_train)\n",
    "svm_pred = svm.predict(feature_test)\n",
    "\n",
    "# Apresentando o relatório de classificação\n",
    "print(\"Relatório de Classificação - SVM:\\n\")\n",
    "print(classification_report(target_test, svm_pred, labels=[0, 1, 3, 4, 5], target_names=[\"Ideal\", \"Premium\", \"Very Good\", \"Good\", \"Fair\"], zero_division=0))\n",
    "print(f\"Acurácia do modelo de SVM: {accuracy_score(target_test, svm_pred):.5f}\")"
   ]
  },
  {
   "cell_type": "markdown",
   "id": "2ec4a424",
   "metadata": {},
   "source": [
    "### Questão 10\n",
    "Execute um GridSearch buscando a melhor configuração para os parâmetros 'C' e 'kernel' no modelo SVM. Utilize a acurácia como métrica-alvo. \n"
   ]
  },
  {
   "cell_type": "code",
   "execution_count": 10,
   "id": "e1278d4c",
   "metadata": {},
   "outputs": [
    {
     "name": "stdout",
     "output_type": "stream",
     "text": [
      "Fitting 5 folds for each of 16 candidates, totalling 80 fits\n"
     ]
    },
    {
     "data": {
      "text/html": [
       "<style>#sk-container-id-1 {\n",
       "  /* Definition of color scheme common for light and dark mode */\n",
       "  --sklearn-color-text: #000;\n",
       "  --sklearn-color-text-muted: #666;\n",
       "  --sklearn-color-line: gray;\n",
       "  /* Definition of color scheme for unfitted estimators */\n",
       "  --sklearn-color-unfitted-level-0: #fff5e6;\n",
       "  --sklearn-color-unfitted-level-1: #f6e4d2;\n",
       "  --sklearn-color-unfitted-level-2: #ffe0b3;\n",
       "  --sklearn-color-unfitted-level-3: chocolate;\n",
       "  /* Definition of color scheme for fitted estimators */\n",
       "  --sklearn-color-fitted-level-0: #f0f8ff;\n",
       "  --sklearn-color-fitted-level-1: #d4ebff;\n",
       "  --sklearn-color-fitted-level-2: #b3dbfd;\n",
       "  --sklearn-color-fitted-level-3: cornflowerblue;\n",
       "\n",
       "  /* Specific color for light theme */\n",
       "  --sklearn-color-text-on-default-background: var(--sg-text-color, var(--theme-code-foreground, var(--jp-content-font-color1, black)));\n",
       "  --sklearn-color-background: var(--sg-background-color, var(--theme-background, var(--jp-layout-color0, white)));\n",
       "  --sklearn-color-border-box: var(--sg-text-color, var(--theme-code-foreground, var(--jp-content-font-color1, black)));\n",
       "  --sklearn-color-icon: #696969;\n",
       "\n",
       "  @media (prefers-color-scheme: dark) {\n",
       "    /* Redefinition of color scheme for dark theme */\n",
       "    --sklearn-color-text-on-default-background: var(--sg-text-color, var(--theme-code-foreground, var(--jp-content-font-color1, white)));\n",
       "    --sklearn-color-background: var(--sg-background-color, var(--theme-background, var(--jp-layout-color0, #111)));\n",
       "    --sklearn-color-border-box: var(--sg-text-color, var(--theme-code-foreground, var(--jp-content-font-color1, white)));\n",
       "    --sklearn-color-icon: #878787;\n",
       "  }\n",
       "}\n",
       "\n",
       "#sk-container-id-1 {\n",
       "  color: var(--sklearn-color-text);\n",
       "}\n",
       "\n",
       "#sk-container-id-1 pre {\n",
       "  padding: 0;\n",
       "}\n",
       "\n",
       "#sk-container-id-1 input.sk-hidden--visually {\n",
       "  border: 0;\n",
       "  clip: rect(1px 1px 1px 1px);\n",
       "  clip: rect(1px, 1px, 1px, 1px);\n",
       "  height: 1px;\n",
       "  margin: -1px;\n",
       "  overflow: hidden;\n",
       "  padding: 0;\n",
       "  position: absolute;\n",
       "  width: 1px;\n",
       "}\n",
       "\n",
       "#sk-container-id-1 div.sk-dashed-wrapped {\n",
       "  border: 1px dashed var(--sklearn-color-line);\n",
       "  margin: 0 0.4em 0.5em 0.4em;\n",
       "  box-sizing: border-box;\n",
       "  padding-bottom: 0.4em;\n",
       "  background-color: var(--sklearn-color-background);\n",
       "}\n",
       "\n",
       "#sk-container-id-1 div.sk-container {\n",
       "  /* jupyter's `normalize.less` sets `[hidden] { display: none; }`\n",
       "     but bootstrap.min.css set `[hidden] { display: none !important; }`\n",
       "     so we also need the `!important` here to be able to override the\n",
       "     default hidden behavior on the sphinx rendered scikit-learn.org.\n",
       "     See: https://github.com/scikit-learn/scikit-learn/issues/21755 */\n",
       "  display: inline-block !important;\n",
       "  position: relative;\n",
       "}\n",
       "\n",
       "#sk-container-id-1 div.sk-text-repr-fallback {\n",
       "  display: none;\n",
       "}\n",
       "\n",
       "div.sk-parallel-item,\n",
       "div.sk-serial,\n",
       "div.sk-item {\n",
       "  /* draw centered vertical line to link estimators */\n",
       "  background-image: linear-gradient(var(--sklearn-color-text-on-default-background), var(--sklearn-color-text-on-default-background));\n",
       "  background-size: 2px 100%;\n",
       "  background-repeat: no-repeat;\n",
       "  background-position: center center;\n",
       "}\n",
       "\n",
       "/* Parallel-specific style estimator block */\n",
       "\n",
       "#sk-container-id-1 div.sk-parallel-item::after {\n",
       "  content: \"\";\n",
       "  width: 100%;\n",
       "  border-bottom: 2px solid var(--sklearn-color-text-on-default-background);\n",
       "  flex-grow: 1;\n",
       "}\n",
       "\n",
       "#sk-container-id-1 div.sk-parallel {\n",
       "  display: flex;\n",
       "  align-items: stretch;\n",
       "  justify-content: center;\n",
       "  background-color: var(--sklearn-color-background);\n",
       "  position: relative;\n",
       "}\n",
       "\n",
       "#sk-container-id-1 div.sk-parallel-item {\n",
       "  display: flex;\n",
       "  flex-direction: column;\n",
       "}\n",
       "\n",
       "#sk-container-id-1 div.sk-parallel-item:first-child::after {\n",
       "  align-self: flex-end;\n",
       "  width: 50%;\n",
       "}\n",
       "\n",
       "#sk-container-id-1 div.sk-parallel-item:last-child::after {\n",
       "  align-self: flex-start;\n",
       "  width: 50%;\n",
       "}\n",
       "\n",
       "#sk-container-id-1 div.sk-parallel-item:only-child::after {\n",
       "  width: 0;\n",
       "}\n",
       "\n",
       "/* Serial-specific style estimator block */\n",
       "\n",
       "#sk-container-id-1 div.sk-serial {\n",
       "  display: flex;\n",
       "  flex-direction: column;\n",
       "  align-items: center;\n",
       "  background-color: var(--sklearn-color-background);\n",
       "  padding-right: 1em;\n",
       "  padding-left: 1em;\n",
       "}\n",
       "\n",
       "\n",
       "/* Toggleable style: style used for estimator/Pipeline/ColumnTransformer box that is\n",
       "clickable and can be expanded/collapsed.\n",
       "- Pipeline and ColumnTransformer use this feature and define the default style\n",
       "- Estimators will overwrite some part of the style using the `sk-estimator` class\n",
       "*/\n",
       "\n",
       "/* Pipeline and ColumnTransformer style (default) */\n",
       "\n",
       "#sk-container-id-1 div.sk-toggleable {\n",
       "  /* Default theme specific background. It is overwritten whether we have a\n",
       "  specific estimator or a Pipeline/ColumnTransformer */\n",
       "  background-color: var(--sklearn-color-background);\n",
       "}\n",
       "\n",
       "/* Toggleable label */\n",
       "#sk-container-id-1 label.sk-toggleable__label {\n",
       "  cursor: pointer;\n",
       "  display: flex;\n",
       "  width: 100%;\n",
       "  margin-bottom: 0;\n",
       "  padding: 0.5em;\n",
       "  box-sizing: border-box;\n",
       "  text-align: center;\n",
       "  align-items: start;\n",
       "  justify-content: space-between;\n",
       "  gap: 0.5em;\n",
       "}\n",
       "\n",
       "#sk-container-id-1 label.sk-toggleable__label .caption {\n",
       "  font-size: 0.6rem;\n",
       "  font-weight: lighter;\n",
       "  color: var(--sklearn-color-text-muted);\n",
       "}\n",
       "\n",
       "#sk-container-id-1 label.sk-toggleable__label-arrow:before {\n",
       "  /* Arrow on the left of the label */\n",
       "  content: \"▸\";\n",
       "  float: left;\n",
       "  margin-right: 0.25em;\n",
       "  color: var(--sklearn-color-icon);\n",
       "}\n",
       "\n",
       "#sk-container-id-1 label.sk-toggleable__label-arrow:hover:before {\n",
       "  color: var(--sklearn-color-text);\n",
       "}\n",
       "\n",
       "/* Toggleable content - dropdown */\n",
       "\n",
       "#sk-container-id-1 div.sk-toggleable__content {\n",
       "  max-height: 0;\n",
       "  max-width: 0;\n",
       "  overflow: hidden;\n",
       "  text-align: left;\n",
       "  /* unfitted */\n",
       "  background-color: var(--sklearn-color-unfitted-level-0);\n",
       "}\n",
       "\n",
       "#sk-container-id-1 div.sk-toggleable__content.fitted {\n",
       "  /* fitted */\n",
       "  background-color: var(--sklearn-color-fitted-level-0);\n",
       "}\n",
       "\n",
       "#sk-container-id-1 div.sk-toggleable__content pre {\n",
       "  margin: 0.2em;\n",
       "  border-radius: 0.25em;\n",
       "  color: var(--sklearn-color-text);\n",
       "  /* unfitted */\n",
       "  background-color: var(--sklearn-color-unfitted-level-0);\n",
       "}\n",
       "\n",
       "#sk-container-id-1 div.sk-toggleable__content.fitted pre {\n",
       "  /* unfitted */\n",
       "  background-color: var(--sklearn-color-fitted-level-0);\n",
       "}\n",
       "\n",
       "#sk-container-id-1 input.sk-toggleable__control:checked~div.sk-toggleable__content {\n",
       "  /* Expand drop-down */\n",
       "  max-height: 200px;\n",
       "  max-width: 100%;\n",
       "  overflow: auto;\n",
       "}\n",
       "\n",
       "#sk-container-id-1 input.sk-toggleable__control:checked~label.sk-toggleable__label-arrow:before {\n",
       "  content: \"▾\";\n",
       "}\n",
       "\n",
       "/* Pipeline/ColumnTransformer-specific style */\n",
       "\n",
       "#sk-container-id-1 div.sk-label input.sk-toggleable__control:checked~label.sk-toggleable__label {\n",
       "  color: var(--sklearn-color-text);\n",
       "  background-color: var(--sklearn-color-unfitted-level-2);\n",
       "}\n",
       "\n",
       "#sk-container-id-1 div.sk-label.fitted input.sk-toggleable__control:checked~label.sk-toggleable__label {\n",
       "  background-color: var(--sklearn-color-fitted-level-2);\n",
       "}\n",
       "\n",
       "/* Estimator-specific style */\n",
       "\n",
       "/* Colorize estimator box */\n",
       "#sk-container-id-1 div.sk-estimator input.sk-toggleable__control:checked~label.sk-toggleable__label {\n",
       "  /* unfitted */\n",
       "  background-color: var(--sklearn-color-unfitted-level-2);\n",
       "}\n",
       "\n",
       "#sk-container-id-1 div.sk-estimator.fitted input.sk-toggleable__control:checked~label.sk-toggleable__label {\n",
       "  /* fitted */\n",
       "  background-color: var(--sklearn-color-fitted-level-2);\n",
       "}\n",
       "\n",
       "#sk-container-id-1 div.sk-label label.sk-toggleable__label,\n",
       "#sk-container-id-1 div.sk-label label {\n",
       "  /* The background is the default theme color */\n",
       "  color: var(--sklearn-color-text-on-default-background);\n",
       "}\n",
       "\n",
       "/* On hover, darken the color of the background */\n",
       "#sk-container-id-1 div.sk-label:hover label.sk-toggleable__label {\n",
       "  color: var(--sklearn-color-text);\n",
       "  background-color: var(--sklearn-color-unfitted-level-2);\n",
       "}\n",
       "\n",
       "/* Label box, darken color on hover, fitted */\n",
       "#sk-container-id-1 div.sk-label.fitted:hover label.sk-toggleable__label.fitted {\n",
       "  color: var(--sklearn-color-text);\n",
       "  background-color: var(--sklearn-color-fitted-level-2);\n",
       "}\n",
       "\n",
       "/* Estimator label */\n",
       "\n",
       "#sk-container-id-1 div.sk-label label {\n",
       "  font-family: monospace;\n",
       "  font-weight: bold;\n",
       "  display: inline-block;\n",
       "  line-height: 1.2em;\n",
       "}\n",
       "\n",
       "#sk-container-id-1 div.sk-label-container {\n",
       "  text-align: center;\n",
       "}\n",
       "\n",
       "/* Estimator-specific */\n",
       "#sk-container-id-1 div.sk-estimator {\n",
       "  font-family: monospace;\n",
       "  border: 1px dotted var(--sklearn-color-border-box);\n",
       "  border-radius: 0.25em;\n",
       "  box-sizing: border-box;\n",
       "  margin-bottom: 0.5em;\n",
       "  /* unfitted */\n",
       "  background-color: var(--sklearn-color-unfitted-level-0);\n",
       "}\n",
       "\n",
       "#sk-container-id-1 div.sk-estimator.fitted {\n",
       "  /* fitted */\n",
       "  background-color: var(--sklearn-color-fitted-level-0);\n",
       "}\n",
       "\n",
       "/* on hover */\n",
       "#sk-container-id-1 div.sk-estimator:hover {\n",
       "  /* unfitted */\n",
       "  background-color: var(--sklearn-color-unfitted-level-2);\n",
       "}\n",
       "\n",
       "#sk-container-id-1 div.sk-estimator.fitted:hover {\n",
       "  /* fitted */\n",
       "  background-color: var(--sklearn-color-fitted-level-2);\n",
       "}\n",
       "\n",
       "/* Specification for estimator info (e.g. \"i\" and \"?\") */\n",
       "\n",
       "/* Common style for \"i\" and \"?\" */\n",
       "\n",
       ".sk-estimator-doc-link,\n",
       "a:link.sk-estimator-doc-link,\n",
       "a:visited.sk-estimator-doc-link {\n",
       "  float: right;\n",
       "  font-size: smaller;\n",
       "  line-height: 1em;\n",
       "  font-family: monospace;\n",
       "  background-color: var(--sklearn-color-background);\n",
       "  border-radius: 1em;\n",
       "  height: 1em;\n",
       "  width: 1em;\n",
       "  text-decoration: none !important;\n",
       "  margin-left: 0.5em;\n",
       "  text-align: center;\n",
       "  /* unfitted */\n",
       "  border: var(--sklearn-color-unfitted-level-1) 1pt solid;\n",
       "  color: var(--sklearn-color-unfitted-level-1);\n",
       "}\n",
       "\n",
       ".sk-estimator-doc-link.fitted,\n",
       "a:link.sk-estimator-doc-link.fitted,\n",
       "a:visited.sk-estimator-doc-link.fitted {\n",
       "  /* fitted */\n",
       "  border: var(--sklearn-color-fitted-level-1) 1pt solid;\n",
       "  color: var(--sklearn-color-fitted-level-1);\n",
       "}\n",
       "\n",
       "/* On hover */\n",
       "div.sk-estimator:hover .sk-estimator-doc-link:hover,\n",
       ".sk-estimator-doc-link:hover,\n",
       "div.sk-label-container:hover .sk-estimator-doc-link:hover,\n",
       ".sk-estimator-doc-link:hover {\n",
       "  /* unfitted */\n",
       "  background-color: var(--sklearn-color-unfitted-level-3);\n",
       "  color: var(--sklearn-color-background);\n",
       "  text-decoration: none;\n",
       "}\n",
       "\n",
       "div.sk-estimator.fitted:hover .sk-estimator-doc-link.fitted:hover,\n",
       ".sk-estimator-doc-link.fitted:hover,\n",
       "div.sk-label-container:hover .sk-estimator-doc-link.fitted:hover,\n",
       ".sk-estimator-doc-link.fitted:hover {\n",
       "  /* fitted */\n",
       "  background-color: var(--sklearn-color-fitted-level-3);\n",
       "  color: var(--sklearn-color-background);\n",
       "  text-decoration: none;\n",
       "}\n",
       "\n",
       "/* Span, style for the box shown on hovering the info icon */\n",
       ".sk-estimator-doc-link span {\n",
       "  display: none;\n",
       "  z-index: 9999;\n",
       "  position: relative;\n",
       "  font-weight: normal;\n",
       "  right: .2ex;\n",
       "  padding: .5ex;\n",
       "  margin: .5ex;\n",
       "  width: min-content;\n",
       "  min-width: 20ex;\n",
       "  max-width: 50ex;\n",
       "  color: var(--sklearn-color-text);\n",
       "  box-shadow: 2pt 2pt 4pt #999;\n",
       "  /* unfitted */\n",
       "  background: var(--sklearn-color-unfitted-level-0);\n",
       "  border: .5pt solid var(--sklearn-color-unfitted-level-3);\n",
       "}\n",
       "\n",
       ".sk-estimator-doc-link.fitted span {\n",
       "  /* fitted */\n",
       "  background: var(--sklearn-color-fitted-level-0);\n",
       "  border: var(--sklearn-color-fitted-level-3);\n",
       "}\n",
       "\n",
       ".sk-estimator-doc-link:hover span {\n",
       "  display: block;\n",
       "}\n",
       "\n",
       "/* \"?\"-specific style due to the `<a>` HTML tag */\n",
       "\n",
       "#sk-container-id-1 a.estimator_doc_link {\n",
       "  float: right;\n",
       "  font-size: 1rem;\n",
       "  line-height: 1em;\n",
       "  font-family: monospace;\n",
       "  background-color: var(--sklearn-color-background);\n",
       "  border-radius: 1rem;\n",
       "  height: 1rem;\n",
       "  width: 1rem;\n",
       "  text-decoration: none;\n",
       "  /* unfitted */\n",
       "  color: var(--sklearn-color-unfitted-level-1);\n",
       "  border: var(--sklearn-color-unfitted-level-1) 1pt solid;\n",
       "}\n",
       "\n",
       "#sk-container-id-1 a.estimator_doc_link.fitted {\n",
       "  /* fitted */\n",
       "  border: var(--sklearn-color-fitted-level-1) 1pt solid;\n",
       "  color: var(--sklearn-color-fitted-level-1);\n",
       "}\n",
       "\n",
       "/* On hover */\n",
       "#sk-container-id-1 a.estimator_doc_link:hover {\n",
       "  /* unfitted */\n",
       "  background-color: var(--sklearn-color-unfitted-level-3);\n",
       "  color: var(--sklearn-color-background);\n",
       "  text-decoration: none;\n",
       "}\n",
       "\n",
       "#sk-container-id-1 a.estimator_doc_link.fitted:hover {\n",
       "  /* fitted */\n",
       "  background-color: var(--sklearn-color-fitted-level-3);\n",
       "}\n",
       "</style><div id=\"sk-container-id-1\" class=\"sk-top-container\"><div class=\"sk-text-repr-fallback\"><pre>GridSearchCV(cv=5, estimator=SVC(random_state=11), n_jobs=-1,\n",
       "             param_grid={&#x27;C&#x27;: [0.1, 1, 10, 100],\n",
       "                         &#x27;kernel&#x27;: [&#x27;linear&#x27;, &#x27;rbf&#x27;, &#x27;poly&#x27;, &#x27;sigmoid&#x27;]},\n",
       "             scoring=&#x27;accuracy&#x27;, verbose=1)</pre><b>In a Jupyter environment, please rerun this cell to show the HTML representation or trust the notebook. <br />On GitHub, the HTML representation is unable to render, please try loading this page with nbviewer.org.</b></div><div class=\"sk-container\" hidden><div class=\"sk-item sk-dashed-wrapped\"><div class=\"sk-label-container\"><div class=\"sk-label fitted sk-toggleable\"><input class=\"sk-toggleable__control sk-hidden--visually\" id=\"sk-estimator-id-1\" type=\"checkbox\" ><label for=\"sk-estimator-id-1\" class=\"sk-toggleable__label fitted sk-toggleable__label-arrow\"><div><div>GridSearchCV</div></div><div><a class=\"sk-estimator-doc-link fitted\" rel=\"noreferrer\" target=\"_blank\" href=\"https://scikit-learn.org/1.6/modules/generated/sklearn.model_selection.GridSearchCV.html\">?<span>Documentation for GridSearchCV</span></a><span class=\"sk-estimator-doc-link fitted\">i<span>Fitted</span></span></div></label><div class=\"sk-toggleable__content fitted\"><pre>GridSearchCV(cv=5, estimator=SVC(random_state=11), n_jobs=-1,\n",
       "             param_grid={&#x27;C&#x27;: [0.1, 1, 10, 100],\n",
       "                         &#x27;kernel&#x27;: [&#x27;linear&#x27;, &#x27;rbf&#x27;, &#x27;poly&#x27;, &#x27;sigmoid&#x27;]},\n",
       "             scoring=&#x27;accuracy&#x27;, verbose=1)</pre></div> </div></div><div class=\"sk-parallel\"><div class=\"sk-parallel-item\"><div class=\"sk-item\"><div class=\"sk-label-container\"><div class=\"sk-label fitted sk-toggleable\"><input class=\"sk-toggleable__control sk-hidden--visually\" id=\"sk-estimator-id-2\" type=\"checkbox\" ><label for=\"sk-estimator-id-2\" class=\"sk-toggleable__label fitted sk-toggleable__label-arrow\"><div><div>best_estimator_: SVC</div></div></label><div class=\"sk-toggleable__content fitted\"><pre>SVC(C=0.1, kernel=&#x27;linear&#x27;, random_state=11)</pre></div> </div></div><div class=\"sk-serial\"><div class=\"sk-item\"><div class=\"sk-estimator fitted sk-toggleable\"><input class=\"sk-toggleable__control sk-hidden--visually\" id=\"sk-estimator-id-3\" type=\"checkbox\" ><label for=\"sk-estimator-id-3\" class=\"sk-toggleable__label fitted sk-toggleable__label-arrow\"><div><div>SVC</div></div><div><a class=\"sk-estimator-doc-link fitted\" rel=\"noreferrer\" target=\"_blank\" href=\"https://scikit-learn.org/1.6/modules/generated/sklearn.svm.SVC.html\">?<span>Documentation for SVC</span></a></div></label><div class=\"sk-toggleable__content fitted\"><pre>SVC(C=0.1, kernel=&#x27;linear&#x27;, random_state=11)</pre></div> </div></div></div></div></div></div></div></div></div>"
      ],
      "text/plain": [
       "GridSearchCV(cv=5, estimator=SVC(random_state=11), n_jobs=-1,\n",
       "             param_grid={'C': [0.1, 1, 10, 100],\n",
       "                         'kernel': ['linear', 'rbf', 'poly', 'sigmoid']},\n",
       "             scoring='accuracy', verbose=1)"
      ]
     },
     "execution_count": 10,
     "metadata": {},
     "output_type": "execute_result"
    }
   ],
   "source": [
    "# Hiperparâmetros do SVM\n",
    "param_grid = {\n",
    "    \"C\": [0.1, 1, 10, 100],\n",
    "    \"kernel\": [\"linear\", \"rbf\", \"poly\", \"sigmoid\"]\n",
    "}\n",
    "grid_search = GridSearchCV(estimator=svm, param_grid=param_grid, scoring=\"accuracy\", cv=5, n_jobs=-1, verbose=1)\n",
    "grid_search.fit(feature_train, target_train)\n"
   ]
  },
  {
   "cell_type": "markdown",
   "id": "eb742c18",
   "metadata": {},
   "source": [
    "### Questão 11\n",
    "Apresente a melhor combinação de parâmetros encontrada pelo procedimento da questão 10 e execute o modelo para esta melhor combinação.\n"
   ]
  },
  {
   "cell_type": "code",
   "execution_count": 11,
   "id": "f4ff3de0",
   "metadata": {},
   "outputs": [
    {
     "name": "stdout",
     "output_type": "stream",
     "text": [
      "Melhores parâmetros encontrados para SVM:\n",
      "{'C': 0.1, 'kernel': 'linear'}\n"
     ]
    }
   ],
   "source": [
    "# Apresentando os parâmetros do melhor modelo encontrado\n",
    "best_svm = grid_search.best_estimator_\n",
    "print(\"Melhores parâmetros encontrados para SVM:\")\n",
    "print(grid_search.best_params_)\n",
    "\n",
    "# Executando o modelo com os melhores parâmetros\n",
    "best_svm.fit(feature_train, target_train)\n",
    "target_pred = best_svm.predict(feature_test)"
   ]
  },
  {
   "cell_type": "markdown",
   "id": "a68d6e32",
   "metadata": {},
   "source": [
    "### Questão 12\n",
    "Apresente o relatório de classificação a partir da execução do modelo com a melhor configuração no conjunto de testes.\n"
   ]
  },
  {
   "cell_type": "code",
   "execution_count": 12,
   "id": "78617eb0",
   "metadata": {},
   "outputs": [
    {
     "name": "stdout",
     "output_type": "stream",
     "text": [
      "Relatório de Classificação - SVM (com os melhores parâmetros):\n",
      "\n",
      "              precision    recall  f1-score   support\n",
      "\n",
      "       Ideal       0.92      0.95      0.94      5399\n",
      "     Premium       0.91      0.88      0.89      3437\n",
      "   Very Good       0.00      0.00      0.00         0\n",
      "        Good       0.00      0.00      0.00         0\n",
      "        Fair       0.00      0.00      0.00         0\n",
      "\n",
      "    accuracy                           0.92      8836\n",
      "   macro avg       0.37      0.36      0.37      8836\n",
      "weighted avg       0.92      0.92      0.92      8836\n",
      "\n",
      "Acurácia do modelo de SVM (com os melhores parâmetros): 0.91999\n"
     ]
    }
   ],
   "source": [
    "# Gerando o relatório de classificação com o modelo otimizado\n",
    "print(\"Relatório de Classificação - SVM (com os melhores parâmetros):\\n\")\n",
    "print(classification_report(target_test, target_pred, labels=[0, 1, 3, 4, 5], target_names=[\"Ideal\", \"Premium\", \"Very Good\", \"Good\", \"Fair\"], zero_division=0))\n",
    "print(f\"Acurácia do modelo de SVM (com os melhores parâmetros): {accuracy_score(target_test, target_pred):.5f}\")"
   ]
  },
  {
   "cell_type": "markdown",
   "id": "a75b2ccb",
   "metadata": {},
   "source": [
    "### Questão 13\n",
    "A partir do melhor modelo Random Forest indicado pelo GridSearch na questão 6, apresente, por meio de uma visualização, a importância de cada variável utilizada no resultado final (Feature Importance).\n"
   ]
  },
  {
   "cell_type": "code",
   "execution_count": 13,
   "id": "7ca4c1cf",
   "metadata": {},
   "outputs": [
    {
     "data": {
      "image/png": "[encoded data removed]",
      "text/plain": [
       "<Figure size 1200x600 with 1 Axes>"
      ]
     },
     "metadata": {},
     "output_type": "display_data"
    }
   ],
   "source": [
    "import numpy as np\n",
    "\n",
    "# Calculando a importância das variáveis no modelo de Random Forest\n",
    "importances = best_rf.feature_importances_\n",
    "indices = np.argsort(importances)[::-1]\n",
    "feature_names = features.columns\n",
    "\n",
    "# Gerando o gráfico das 15 variáveis mais importantes (considerando as variáveis dummy)\n",
    "plt.figure(figsize=(12, 6))\n",
    "plt.title(\"Top 15 Variáveis Mais Importantes - Random Forest\")\n",
    "plt.bar(range(15), importances[indices][:15], align=\"center\")\n",
    "plt.xticks(range(15), [feature_names[i] for i in indices[:15]], rotation=90)\n",
    "plt.xlabel(\"Variáveis\")\n",
    "plt.ylabel(\"Importância\")\n",
    "plt.tight_layout()\n",
    "plt.show()"
   ]
  },
  {
   "cell_type": "markdown",
   "id": "ddd287c9",
   "metadata": {},
   "source": [
    "### Questão 14\n",
    "Indique quais foram as três variáveis mais relevantes para o resultado final, na execução avaliada na questão 13. Justifique sua resposta.\n"
   ]
  },
  {
   "cell_type": "markdown",
   "id": "afbe5e89",
   "metadata": {},
   "source": [
    "$\\Rightarrow$ As variáveis mais relevantes foram, pelo resultado da execução da questão 13, table, depth e y.\n",
    "\n",
    "Podemos concluir que a variável table é a mais importante para determinar a qualidade do corte do diamante. Verificamos que as outras variáveis relacionadas às dimensões são importantes, mas não na mesma proporção que table.\n",
    "\n",
    "O preço possui bastante importância, mas não ficou entre os três mais importantes. A claridade e a cor foram as variáveis que possuem importância bem baixa na classificação do corte do diamante.\n"
   ]
  },
  {
   "cell_type": "markdown",
   "id": "92aef129",
   "metadata": {},
   "source": [
    "### Questão 15\n",
    "Novamente a partir do melhor modelo Random Forest indicado pelo GridSearch na questão 6, execute e aplique a técnica LIME em duas observações do conjunto de testes (escolha aleatoriamente).\n"
   ]
  },
  {
   "cell_type": "code",
   "execution_count": 14,
   "id": "d9c36bdc",
   "metadata": {},
   "outputs": [
    {
     "name": "stdout",
     "output_type": "stream",
     "text": [
      "\n",
      "Explicação para a 1ª observação (classe prevista = 0 ):\n",
      "table > 0.50: 0.336\n",
      "x > 0.77: 0.140\n",
      "y > 0.74: -0.103\n",
      "price > 0.36: -0.083\n",
      "carat > 0.57: 0.070\n",
      "color_I > -0.33: -0.035\n",
      "clarity_IF <= -0.21: 0.033\n",
      "clarity_VVS1 <= -0.29: 0.032\n",
      "clarity_VVS2 <= -0.33: 0.023\n",
      "-0.46 < depth <= 0.17: -0.023\n"
     ]
    },
    {
     "data": {
      "image/png": "[encoded data removed]",
      "text/plain": [
       "<Figure size 800x600 with 1 Axes>"
      ]
     },
     "metadata": {},
     "output_type": "display_data"
    },
    {
     "name": "stdout",
     "output_type": "stream",
     "text": [
      "\n",
      "Explicação para a 2ª observação (classe prevista = 0 ):\n",
      "table <= -0.54: -0.261\n",
      "-0.18 < x <= 0.77: 0.054\n",
      "clarity_IF <= -0.21: 0.045\n",
      "-0.43 < price <= 0.36: -0.039\n",
      "-0.17 < y <= 0.74: -0.038\n",
      "clarity_VVS1 <= -0.29: 0.027\n",
      "-0.33 < carat <= 0.57: 0.024\n",
      "depth > 0.71: 0.021\n",
      "color_I > -0.33: -0.017\n",
      "color_H <= -0.43: 0.016\n"
     ]
    },
    {
     "data": {
      "image/png": "[encoded data removed]",
      "text/plain": [
       "<Figure size 800x600 with 1 Axes>"
      ]
     },
     "metadata": {},
     "output_type": "display_data"
    }
   ],
   "source": [
    "from lime.lime_tabular import LimeTabularExplainer\n",
    "\n",
    "# Criando o explicador LIME\n",
    "explainer = LimeTabularExplainer(\n",
    "    training_data=feature_train,       # dados de treino escalonados\n",
    "    training_labels=target_train,      # rótulos de treino\n",
    "    feature_names=features.columns,    # nomes das variáveis\n",
    "    class_names=[\"Ideal\", \"Premium\", \"Very Good\", \"Good\", \"Fair\"], # nomes das classes\n",
    "    discretize_continuous=True,\n",
    "    mode=\"classification\"\n",
    ")\n",
    "\n",
    "# Selecionando duas observações do conjunto de teste\n",
    "instance1 = feature_test[3]\n",
    "instance2 = feature_test[7]\n",
    "\n",
    "# Explicação da primeira observação\n",
    "exp1 = explainer.explain_instance(instance1, best_rf.predict_proba, num_features=10)\n",
    "print(\"\\nExplicação para a 1ª observação (classe prevista =\", best_rf.predict([instance1])[0], \"):\")\n",
    "for feat, weight in exp1.as_list():\n",
    "    print(f\"{feat}: {weight:.3f}\")\n",
    "exp1_list = exp1.as_list()\n",
    "features1 = [f for f, _ in exp1_list]\n",
    "weights1 = [w for _, w in exp1_list]\n",
    "plt.figure(figsize=(8,6))\n",
    "colors1 = [\"green\" if w > 0 else \"red\" for w in weights1]\n",
    "plt.barh(features1, weights1, color=colors1)\n",
    "plt.title(\"LIME - 1ª Observação\")\n",
    "plt.xlabel(\"Peso da contribuição\")\n",
    "plt.gca().invert_yaxis()\n",
    "plt.tight_layout()\n",
    "plt.show()\n",
    "\n",
    "# Explicação da segunda observação\n",
    "exp2 = explainer.explain_instance(instance2, best_rf.predict_proba, num_features=10)\n",
    "print(\"\\nExplicação para a 2ª observação (classe prevista =\", best_rf.predict([instance2])[0], \"):\")\n",
    "for feat, weight in exp2.as_list():\n",
    "    print(f\"{feat}: {weight:.3f}\")\n",
    "exp2_list = exp2.as_list()\n",
    "features2 = [f for f, _ in exp2_list]\n",
    "weights2 = [w for _, w in exp2_list]\n",
    "plt.figure(figsize=(8,6))\n",
    "colors2 = [\"green\" if w > 0 else \"red\" for w in weights2]\n",
    "plt.barh(features2, weights2, color=colors2)\n",
    "plt.title(\"LIME - 2ª Observação\")\n",
    "plt.xlabel(\"Peso da contribuição\")\n",
    "plt.gca().invert_yaxis()\n",
    "plt.tight_layout()\n",
    "plt.show()"
   ]
  },
  {
   "cell_type": "markdown",
   "id": "fbdfbcef",
   "metadata": {},
   "source": [
    "### Questão 16\n",
    "Apresente as variáveis das observações escolhidas na questão 15, indique os dois fatores que mais influenciaram na classificação de cada uma das observações e interprete o resultado da aplicação da técnica LIME nestas mesmas observações.\n"
   ]
  },
  {
   "cell_type": "markdown",
   "id": "124ef248",
   "metadata": {},
   "source": [
    "$\\Rightarrow$ Os dois fatores que mais influenciam na classificação, para ambos os casos, foram o table e x. Na primeira observação, o valor de table influencia positivamente, enquanto na segunda influencia negativamente. O valor de x influencia positivamente tanto para a primeira quanto para a segunda observação.\n",
    "\n",
    "Temos como resultado, pela explicação do LIME, que mesmo valores de variáveis que resultam em previsões negativas (i.e., ramos da árvore que indicam para previsões incorretas), não necessariamente resultam em previsão negativa quando as outras variáveis são consideradas."
   ]
  }
 ],
 "metadata": {
  "kernelspec": {
   "display_name": "Python 3",
   "language": "python",
   "name": "python3"
  },
  "language_info": {
   "codemirror_mode": {
    "name": "ipython",
    "version": 3
   },
   "file_extension": ".py",
   "mimetype": "text/x-python",
   "name": "python",
   "nbconvert_exporter": "python",
   "pygments_lexer": "ipython3",
   "version": "3.13.2"
  }
 },
 "nbformat": 4,
 "nbformat_minor": 5
}
